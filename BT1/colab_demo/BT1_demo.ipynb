{
  "nbformat": 4,
  "nbformat_minor": 0,
  "metadata": {
    "colab": {
      "provenance": []
    },
    "kernelspec": {
      "name": "python3",
      "display_name": "Python 3"
    },
    "language_info": {
      "name": "python"
    },
    "accelerator": "GPU",
    "gpuClass": "standard"
  },
  "cells": [
    {
      "cell_type": "code",
      "execution_count": 34,
      "metadata": {
        "id": "z29Szws12lZv"
      },
      "outputs": [],
      "source": [
        "import csv  #Khai báo thư viện,gói dùng để dọc file.csv\n",
        "import pandas as pd"
      ]
    },
    {
      "cell_type": "code",
      "source": [
        "!pip list -v #In ra các gói thư viện đã được cài đặt trên colab"
      ],
      "metadata": {
        "id": "TgGWg48A3xE-"
      },
      "execution_count": null,
      "outputs": []
    },
    {
      "cell_type": "code",
      "source": [
        "from google.colab import drive #Kết nối với drive\n",
        "drive.mount('/content/drive')"
      ],
      "metadata": {
        "id": "91kMPrIe4AVn"
      },
      "execution_count": null,
      "outputs": []
    },
    {
      "cell_type": "code",
      "source": [
        "from google.colab import files #upload 1 file lên thư mục của gg colab\n",
        "uploaded = files.upload()"
      ],
      "metadata": {
        "id": "lWLwm0e3_3Dk"
      },
      "execution_count": null,
      "outputs": []
    },
    {
      "cell_type": "code",
      "source": [
        "!ls #Hiển thị danh sách tên các thư mục trên gg colab"
      ],
      "metadata": {
        "id": "9y-7C2Z4Az1i"
      },
      "execution_count": null,
      "outputs": []
    },
    {
      "cell_type": "code",
      "source": [
        "path = \"insurance.csv\"# Dường dẫn trở tói file đã được tải lên gg colab\n",
        "df_bonus = pd.read_csv(path)#Đọc file csv\n",
        "print(df_bonus)#in ra nội dung file"
      ],
      "metadata": {
        "id": "RqVJ-WvWoQ0V"
      },
      "execution_count": null,
      "outputs": []
    },
    {
      "cell_type": "code",
      "source": [
        "path = \"drive/MyDrive/insurance.csv\"#Dường dẫn trở tói file được lưu trên gg drive đã được kết nối đến\n",
        "df_bonus = pd.read_csv(path)\n",
        "print(df_bonus)"
      ],
      "metadata": {
        "id": "MaguP9yjBDVq"
      },
      "execution_count": null,
      "outputs": []
    }
  ]
}